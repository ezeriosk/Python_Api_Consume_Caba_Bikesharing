{
 "cells": [
  {
   "cell_type": "markdown",
   "metadata": {},
   "source": [
    "#### LIBRARIES"
   ]
  },
  {
   "cell_type": "code",
   "execution_count": 6,
   "metadata": {},
   "outputs": [],
   "source": [
    "import requests\n",
    "import pandas as pd\n",
    "import numpy as np\n",
    "import requests\n",
    "import json\n",
    "import pytz\n",
    "import requests\n",
    "import io\n",
    "from dotenv import load_dotenv\n",
    "import os\n",
    "import tweepy\n",
    "import emoji\n",
    "import schedule\n",
    "import time\n"
   ]
  },
  {
   "cell_type": "code",
   "execution_count": 7,
   "metadata": {},
   "outputs": [
    {
     "data": {
      "text/plain": [
       "True"
      ]
     },
     "execution_count": 7,
     "metadata": {},
     "output_type": "execute_result"
    }
   ],
   "source": [
    "load_dotenv()"
   ]
  },
  {
   "cell_type": "markdown",
   "metadata": {},
   "source": [
    "#### GET DATA FROM GCBA BIKESHARING API"
   ]
  },
  {
   "cell_type": "code",
   "execution_count": 8,
   "metadata": {
    "tags": []
   },
   "outputs": [],
   "source": [
    "############## Station Status ####################\n",
    "\n",
    "def get_data_and_post ():\n",
    "# API endpoint\n",
    "    url = os.getenv('stations_status_url')\n",
    "\n",
    "    # Client ID and Client Secret\n",
    "    client_id = os.getenv('GCBA_CLIENT_ID')\n",
    "    client_secret = os.getenv('GCBA_CLIENT_SECRET')\n",
    "\n",
    "    # Query parameters\n",
    "    params = {\n",
    "        \"client_id\": client_id,\n",
    "        \"client_secret\": client_secret,\n",
    "        \"json\": 1\n",
    "    }\n",
    "\n",
    "    def call_transport_api(url, params):\n",
    "        try:\n",
    "            response = requests.get(url, params=params)\n",
    "            response.raise_for_status()  # Raise an exception for bad status codes\n",
    "            data = response.json()\n",
    "            return data\n",
    "        except requests.exceptions.RequestException as e:\n",
    "            print(\"Error:\", e)\n",
    "            print(\"Response content:\", response.content)  # Print response content for debugging\n",
    "            return None\n",
    "\n",
    "    # Call the API\n",
    "    api_status_data = call_transport_api(url, params)\n",
    "\n",
    "    # Check if data is retrieved successfully\n",
    "    if api_status_data:\n",
    "        # Save API data to a file\n",
    "            with open(\"api_status_data.json\", \"w\") as f:\n",
    "                json.dump(api_status_data, f)\n",
    "            \n",
    "    # Transformations\n",
    "    \n",
    "    # Flatten the nested JSON data\n",
    "    stations_data = api_status_data['data']['stations']\n",
    "    df_status = pd.json_normalize(stations_data)\n",
    "\n",
    "\n",
    "    # Create a new column with the value of 'last_updated'\n",
    "    df_status['last_updated'] = api_status_data['last_updated']\n",
    "\n",
    "    columns_to_convert = ['last_updated','last_reported']\n",
    "    for column in columns_to_convert:\n",
    "        df_status[column] = pd.to_datetime(df_status[column], unit='s')\n",
    "\n",
    "    # Convert UTC time to Argentina time zone\n",
    "    argentina_tz = pytz.timezone('America/Argentina/Buenos_Aires')\n",
    "    for column in columns_to_convert:\n",
    "        df_status[column] = df_status[column].dt.tz_localize(pytz.utc).dt.tz_convert(argentina_tz)\n",
    "        \n",
    "    # Create variables with metrics\n",
    "    \n",
    "    # Total stations in service\n",
    "    in_service_station = df_status[df_status['status'] == 'IN_SERVICE'].count()[0]\n",
    "\n",
    "    # Number of in service station with bikes available and with more than one bike available\n",
    "    bikes_available = df_status[(df_status['num_bikes_available'] > 0) & (df_status['status'] == 'IN_SERVICE')].count()[0]\n",
    "    bikes_available_1 = df_status[(df_status['num_bikes_available'] > 1) & (df_status['status'] == 'IN_SERVICE')].count()[0]\n",
    "\n",
    "\n",
    "    # Percentage with bikes available\n",
    "    bikes_available_perc = round((bikes_available / in_service_station)*100,2)\n",
    "    bikes_available_1_perc = round((bikes_available_1 / in_service_station)*100,2)\n",
    "\n",
    "    # Number of available and disabled bikes\n",
    "    bikes_available_in_stations = df_status['num_bikes_available'].sum()\n",
    "    bikes_disabled = df_status['num_bikes_disabled'].sum()\n",
    "\n",
    "    # Average for available bikes in stations\n",
    "    bikes_available_in_stations_avg = round(df_status['num_bikes_available'].mean(),2)\n",
    "    bikes_disabled_in_stations_avg = round(df_status['num_bikes_disabled'].mean(),2)\n",
    "    \n",
    "    #### POST\n",
    "    \n",
    "    #### Get the keys to log\n",
    "\n",
    "    ACCESS_KEY = os.getenv('x_access_key')\n",
    "    ACCESS_SECRET = os.getenv('x_access_secret')\n",
    "    CONSUMER_KEY = os.getenv('x_consumer_key')\n",
    "    CONSUMER_SECRET = os.getenv('x_consumer_secret')\n",
    "    BEARER_TOKEN = os.getenv('x_bearer_token')\n",
    "    ACCESS_TOKEN = os.getenv('x_access_token')\n",
    "    ACCESS_TOKEN_SECRET = os.getenv('x_access_token_secret')\n",
    "    \n",
    "    \n",
    "    # Authenticate to Twitter\n",
    "    auth = tweepy.OAuthHandler(CONSUMER_KEY, CONSUMER_SECRET)\n",
    "    auth.set_access_token(\n",
    "        ACCESS_TOKEN,\n",
    "        ACCESS_TOKEN_SECRET,\n",
    "    )\n",
    "    \n",
    "    # this is the syntax for twitter API 2.0. It uses the client credentials that we created\n",
    "    newapi = tweepy.Client(\n",
    "        bearer_token=BEARER_TOKEN,\n",
    "        access_token=ACCESS_TOKEN,\n",
    "        access_token_secret=ACCESS_TOKEN_SECRET,\n",
    "        consumer_key=CONSUMER_KEY,\n",
    "        consumer_secret=CONSUMER_SECRET\n",
    "    )\n",
    "\n",
    "    api = tweepy.API(auth)\n",
    "    \n",
    "    #### Tweet 1\n",
    "    \n",
    "    estaciones_post = newapi.create_tweet(text=\n",
    "                                  \"📍Estaciones:\\n \\n\" \\\n",
    "                                  \"· 👍 En servicio -> \" + in_service_station.astype('str') +\n",
    "                                  \"\\n· ✅ Con bicicletas disponibles -> \" + bikes_available.astype('str')+ \" | \" + bikes_available_perc.astype('str') + \"%\"\n",
    "                                  \"\\n· ✅ ✅ Con más de una bicicleta disponible -> \" + bikes_available_1.astype('str') + \" | \" + bikes_available_1_perc.astype('str') + \"%\"\n",
    "                                 )\n",
    "    #### Tweet 2\n",
    "    \n",
    "    bicicletas_post = newapi.create_tweet(text=\n",
    "                                  \"🚲Bicicletas:\\n \\n\" \\\n",
    "                                  \"\\n· ✅ Total Disponibles en estación -> \" + bikes_available_in_stations.astype('str') +\n",
    "                                  \"\\n· 🛑 Total Deshabilitadas -> \" + bikes_disabled.astype('str') +\n",
    "                                  \"\\n· ✅ Promedio disponible por estación -> \" + str(bikes_available_in_stations_avg) +\n",
    "                                  \"\\n· 🛑 Promedio deshabilitadas por estación -> \" + str(bikes_disabled_in_stations_avg)\n",
    "                                  \n",
    "                                 )"
   ]
  },
  {
   "cell_type": "code",
   "execution_count": 10,
   "metadata": {},
   "outputs": [
    {
     "ename": "TooManyRequests",
     "evalue": "429 Too Many Requests\nToo Many Requests",
     "output_type": "error",
     "traceback": [
      "\u001b[0;31m---------------------------------------------------------------------------\u001b[0m",
      "\u001b[0;31mTooManyRequests\u001b[0m                           Traceback (most recent call last)",
      "Cell \u001b[0;32mIn [10], line 1\u001b[0m\n\u001b[0;32m----> 1\u001b[0m \u001b[43mget_data_and_post\u001b[49m\u001b[43m(\u001b[49m\u001b[43m)\u001b[49m\n",
      "Cell \u001b[0;32mIn [8], line 114\u001b[0m, in \u001b[0;36mget_data_and_post\u001b[0;34m()\u001b[0m\n\u001b[1;32m    110\u001b[0m api \u001b[38;5;241m=\u001b[39m tweepy\u001b[38;5;241m.\u001b[39mAPI(auth)\n\u001b[1;32m    112\u001b[0m \u001b[38;5;66;03m#### Tweet 1\u001b[39;00m\n\u001b[0;32m--> 114\u001b[0m estaciones_post \u001b[38;5;241m=\u001b[39m \u001b[43mnewapi\u001b[49m\u001b[38;5;241;43m.\u001b[39;49m\u001b[43mcreate_tweet\u001b[49m\u001b[43m(\u001b[49m\u001b[43mtext\u001b[49m\u001b[38;5;241;43m=\u001b[39;49m\n\u001b[1;32m    115\u001b[0m \u001b[43m                              \u001b[49m\u001b[38;5;124;43m\"\u001b[39;49m\u001b[38;5;124;43m📍Estaciones:\u001b[39;49m\u001b[38;5;130;43;01m\\n\u001b[39;49;00m\u001b[38;5;124;43m \u001b[39;49m\u001b[38;5;130;43;01m\\n\u001b[39;49;00m\u001b[38;5;124;43m\"\u001b[39;49m\u001b[43m \u001b[49m\u001b[43m\\\u001b[49m\n\u001b[1;32m    116\u001b[0m \u001b[43m                              \u001b[49m\u001b[38;5;124;43m\"\u001b[39;49m\u001b[38;5;124;43m· 👍 En servicio -> \u001b[39;49m\u001b[38;5;124;43m\"\u001b[39;49m\u001b[43m \u001b[49m\u001b[38;5;241;43m+\u001b[39;49m\u001b[43m \u001b[49m\u001b[43min_service_station\u001b[49m\u001b[38;5;241;43m.\u001b[39;49m\u001b[43mastype\u001b[49m\u001b[43m(\u001b[49m\u001b[38;5;124;43m'\u001b[39;49m\u001b[38;5;124;43mstr\u001b[39;49m\u001b[38;5;124;43m'\u001b[39;49m\u001b[43m)\u001b[49m\u001b[43m \u001b[49m\u001b[38;5;241;43m+\u001b[39;49m\n\u001b[1;32m    117\u001b[0m \u001b[43m                              \u001b[49m\u001b[38;5;124;43m\"\u001b[39;49m\u001b[38;5;130;43;01m\\n\u001b[39;49;00m\u001b[38;5;124;43m· ✅ Con bicicletas disponibles -> \u001b[39;49m\u001b[38;5;124;43m\"\u001b[39;49m\u001b[43m \u001b[49m\u001b[38;5;241;43m+\u001b[39;49m\u001b[43m \u001b[49m\u001b[43mbikes_available\u001b[49m\u001b[38;5;241;43m.\u001b[39;49m\u001b[43mastype\u001b[49m\u001b[43m(\u001b[49m\u001b[38;5;124;43m'\u001b[39;49m\u001b[38;5;124;43mstr\u001b[39;49m\u001b[38;5;124;43m'\u001b[39;49m\u001b[43m)\u001b[49m\u001b[38;5;241;43m+\u001b[39;49m\u001b[43m \u001b[49m\u001b[38;5;124;43m\"\u001b[39;49m\u001b[38;5;124;43m | \u001b[39;49m\u001b[38;5;124;43m\"\u001b[39;49m\u001b[43m \u001b[49m\u001b[38;5;241;43m+\u001b[39;49m\u001b[43m \u001b[49m\u001b[43mbikes_available_perc\u001b[49m\u001b[38;5;241;43m.\u001b[39;49m\u001b[43mastype\u001b[49m\u001b[43m(\u001b[49m\u001b[38;5;124;43m'\u001b[39;49m\u001b[38;5;124;43mstr\u001b[39;49m\u001b[38;5;124;43m'\u001b[39;49m\u001b[43m)\u001b[49m\u001b[43m \u001b[49m\u001b[38;5;241;43m+\u001b[39;49m\u001b[43m \u001b[49m\u001b[38;5;124;43m\"\u001b[39;49m\u001b[38;5;124;43m%\u001b[39;49m\u001b[38;5;124;43m\"\u001b[39;49m\n\u001b[1;32m    118\u001b[0m \u001b[43m                              \u001b[49m\u001b[38;5;124;43m\"\u001b[39;49m\u001b[38;5;130;43;01m\\n\u001b[39;49;00m\u001b[38;5;124;43m· ✅ ✅ Con más de una bicicleta disponible -> \u001b[39;49m\u001b[38;5;124;43m\"\u001b[39;49m\u001b[43m \u001b[49m\u001b[38;5;241;43m+\u001b[39;49m\u001b[43m \u001b[49m\u001b[43mbikes_available_1\u001b[49m\u001b[38;5;241;43m.\u001b[39;49m\u001b[43mastype\u001b[49m\u001b[43m(\u001b[49m\u001b[38;5;124;43m'\u001b[39;49m\u001b[38;5;124;43mstr\u001b[39;49m\u001b[38;5;124;43m'\u001b[39;49m\u001b[43m)\u001b[49m\u001b[43m \u001b[49m\u001b[38;5;241;43m+\u001b[39;49m\u001b[43m \u001b[49m\u001b[38;5;124;43m\"\u001b[39;49m\u001b[38;5;124;43m | \u001b[39;49m\u001b[38;5;124;43m\"\u001b[39;49m\u001b[43m \u001b[49m\u001b[38;5;241;43m+\u001b[39;49m\u001b[43m \u001b[49m\u001b[43mbikes_available_1_perc\u001b[49m\u001b[38;5;241;43m.\u001b[39;49m\u001b[43mastype\u001b[49m\u001b[43m(\u001b[49m\u001b[38;5;124;43m'\u001b[39;49m\u001b[38;5;124;43mstr\u001b[39;49m\u001b[38;5;124;43m'\u001b[39;49m\u001b[43m)\u001b[49m\u001b[43m \u001b[49m\u001b[38;5;241;43m+\u001b[39;49m\u001b[43m \u001b[49m\u001b[38;5;124;43m\"\u001b[39;49m\u001b[38;5;124;43m%\u001b[39;49m\u001b[38;5;124;43m\"\u001b[39;49m\n\u001b[1;32m    119\u001b[0m \u001b[43m                             \u001b[49m\u001b[43m)\u001b[49m\n\u001b[1;32m    120\u001b[0m \u001b[38;5;66;03m#### Tweet 2\u001b[39;00m\n\u001b[1;32m    122\u001b[0m bicicletas_post \u001b[38;5;241m=\u001b[39m newapi\u001b[38;5;241m.\u001b[39mcreate_tweet(text\u001b[38;5;241m=\u001b[39m\n\u001b[1;32m    123\u001b[0m                               \u001b[38;5;124m\"\u001b[39m\u001b[38;5;124m🚲Bicicletas:\u001b[39m\u001b[38;5;130;01m\\n\u001b[39;00m\u001b[38;5;124m \u001b[39m\u001b[38;5;130;01m\\n\u001b[39;00m\u001b[38;5;124m\"\u001b[39m \\\n\u001b[1;32m    124\u001b[0m                               \u001b[38;5;124m\"\u001b[39m\u001b[38;5;130;01m\\n\u001b[39;00m\u001b[38;5;124m· ✅ Total Disponibles en estación -> \u001b[39m\u001b[38;5;124m\"\u001b[39m \u001b[38;5;241m+\u001b[39m bikes_available_in_stations\u001b[38;5;241m.\u001b[39mastype(\u001b[38;5;124m'\u001b[39m\u001b[38;5;124mstr\u001b[39m\u001b[38;5;124m'\u001b[39m) \u001b[38;5;241m+\u001b[39m\n\u001b[0;32m   (...)\u001b[0m\n\u001b[1;32m    128\u001b[0m                               \n\u001b[1;32m    129\u001b[0m                              )\n",
      "File \u001b[0;32m/opt/anaconda3/lib/python3.8/site-packages/tweepy/client.py:835\u001b[0m, in \u001b[0;36mClient.create_tweet\u001b[0;34m(self, direct_message_deep_link, for_super_followers_only, place_id, media_ids, media_tagged_user_ids, poll_duration_minutes, poll_options, quote_tweet_id, exclude_reply_user_ids, in_reply_to_tweet_id, reply_settings, text, user_auth)\u001b[0m\n\u001b[1;32m    832\u001b[0m \u001b[38;5;28;01mif\u001b[39;00m text \u001b[38;5;129;01mis\u001b[39;00m \u001b[38;5;129;01mnot\u001b[39;00m \u001b[38;5;28;01mNone\u001b[39;00m:\n\u001b[1;32m    833\u001b[0m     json[\u001b[38;5;124m\"\u001b[39m\u001b[38;5;124mtext\u001b[39m\u001b[38;5;124m\"\u001b[39m] \u001b[38;5;241m=\u001b[39m text\n\u001b[0;32m--> 835\u001b[0m \u001b[38;5;28;01mreturn\u001b[39;00m \u001b[38;5;28;43mself\u001b[39;49m\u001b[38;5;241;43m.\u001b[39;49m\u001b[43m_make_request\u001b[49m\u001b[43m(\u001b[49m\n\u001b[1;32m    836\u001b[0m \u001b[43m    \u001b[49m\u001b[38;5;124;43m\"\u001b[39;49m\u001b[38;5;124;43mPOST\u001b[39;49m\u001b[38;5;124;43m\"\u001b[39;49m\u001b[43m,\u001b[49m\u001b[43m \u001b[49m\u001b[38;5;124;43mf\u001b[39;49m\u001b[38;5;124;43m\"\u001b[39;49m\u001b[38;5;124;43m/2/tweets\u001b[39;49m\u001b[38;5;124;43m\"\u001b[39;49m\u001b[43m,\u001b[49m\u001b[43m \u001b[49m\u001b[43mjson\u001b[49m\u001b[38;5;241;43m=\u001b[39;49m\u001b[43mjson\u001b[49m\u001b[43m,\u001b[49m\u001b[43m \u001b[49m\u001b[43muser_auth\u001b[49m\u001b[38;5;241;43m=\u001b[39;49m\u001b[43muser_auth\u001b[49m\n\u001b[1;32m    837\u001b[0m \u001b[43m\u001b[49m\u001b[43m)\u001b[49m\n",
      "File \u001b[0;32m/opt/anaconda3/lib/python3.8/site-packages/tweepy/client.py:129\u001b[0m, in \u001b[0;36mBaseClient._make_request\u001b[0;34m(self, method, route, params, endpoint_parameters, json, data_type, user_auth)\u001b[0m\n\u001b[1;32m    123\u001b[0m \u001b[38;5;28;01mdef\u001b[39;00m \u001b[38;5;21m_make_request\u001b[39m(\n\u001b[1;32m    124\u001b[0m     \u001b[38;5;28mself\u001b[39m, method, route, params\u001b[38;5;241m=\u001b[39m{}, endpoint_parameters\u001b[38;5;241m=\u001b[39m(), json\u001b[38;5;241m=\u001b[39m\u001b[38;5;28;01mNone\u001b[39;00m,\n\u001b[1;32m    125\u001b[0m     data_type\u001b[38;5;241m=\u001b[39m\u001b[38;5;28;01mNone\u001b[39;00m, user_auth\u001b[38;5;241m=\u001b[39m\u001b[38;5;28;01mFalse\u001b[39;00m\n\u001b[1;32m    126\u001b[0m ):\n\u001b[1;32m    127\u001b[0m     request_params \u001b[38;5;241m=\u001b[39m \u001b[38;5;28mself\u001b[39m\u001b[38;5;241m.\u001b[39m_process_params(params, endpoint_parameters)\n\u001b[0;32m--> 129\u001b[0m     response \u001b[38;5;241m=\u001b[39m \u001b[38;5;28;43mself\u001b[39;49m\u001b[38;5;241;43m.\u001b[39;49m\u001b[43mrequest\u001b[49m\u001b[43m(\u001b[49m\u001b[43mmethod\u001b[49m\u001b[43m,\u001b[49m\u001b[43m \u001b[49m\u001b[43mroute\u001b[49m\u001b[43m,\u001b[49m\u001b[43m \u001b[49m\u001b[43mparams\u001b[49m\u001b[38;5;241;43m=\u001b[39;49m\u001b[43mrequest_params\u001b[49m\u001b[43m,\u001b[49m\n\u001b[1;32m    130\u001b[0m \u001b[43m                            \u001b[49m\u001b[43mjson\u001b[49m\u001b[38;5;241;43m=\u001b[39;49m\u001b[43mjson\u001b[49m\u001b[43m,\u001b[49m\u001b[43m \u001b[49m\u001b[43muser_auth\u001b[49m\u001b[38;5;241;43m=\u001b[39;49m\u001b[43muser_auth\u001b[49m\u001b[43m)\u001b[49m\n\u001b[1;32m    132\u001b[0m     \u001b[38;5;28;01mif\u001b[39;00m \u001b[38;5;28mself\u001b[39m\u001b[38;5;241m.\u001b[39mreturn_type \u001b[38;5;129;01mis\u001b[39;00m requests\u001b[38;5;241m.\u001b[39mResponse:\n\u001b[1;32m    133\u001b[0m         \u001b[38;5;28;01mreturn\u001b[39;00m response\n",
      "File \u001b[0;32m/opt/anaconda3/lib/python3.8/site-packages/tweepy/client.py:115\u001b[0m, in \u001b[0;36mBaseClient.request\u001b[0;34m(self, method, route, params, json, user_auth)\u001b[0m\n\u001b[1;32m    113\u001b[0m         \u001b[38;5;28;01mreturn\u001b[39;00m \u001b[38;5;28mself\u001b[39m\u001b[38;5;241m.\u001b[39mrequest(method, route, params, json, user_auth)\n\u001b[1;32m    114\u001b[0m     \u001b[38;5;28;01melse\u001b[39;00m:\n\u001b[0;32m--> 115\u001b[0m         \u001b[38;5;28;01mraise\u001b[39;00m TooManyRequests(response)\n\u001b[1;32m    116\u001b[0m \u001b[38;5;28;01mif\u001b[39;00m response\u001b[38;5;241m.\u001b[39mstatus_code \u001b[38;5;241m>\u001b[39m\u001b[38;5;241m=\u001b[39m \u001b[38;5;241m500\u001b[39m:\n\u001b[1;32m    117\u001b[0m     \u001b[38;5;28;01mraise\u001b[39;00m TwitterServerError(response)\n",
      "\u001b[0;31mTooManyRequests\u001b[0m: 429 Too Many Requests\nToo Many Requests"
     ]
    }
   ],
   "source": [
    "get_data_and_post()"
   ]
  },
  {
   "cell_type": "code",
   "execution_count": 4,
   "metadata": {},
   "outputs": [
    {
     "ename": "KeyboardInterrupt",
     "evalue": "",
     "output_type": "error",
     "traceback": [
      "\u001b[0;31m---------------------------------------------------------------------------\u001b[0m",
      "\u001b[0;31mKeyboardInterrupt\u001b[0m                         Traceback (most recent call last)",
      "Cell \u001b[0;32mIn [4], line 7\u001b[0m\n\u001b[1;32m      5\u001b[0m \u001b[38;5;28;01mwhile\u001b[39;00m \u001b[38;5;28;01mTrue\u001b[39;00m:\n\u001b[1;32m      6\u001b[0m     schedule\u001b[38;5;241m.\u001b[39mrun_pending()\n\u001b[0;32m----> 7\u001b[0m     \u001b[43mtime\u001b[49m\u001b[38;5;241;43m.\u001b[39;49m\u001b[43msleep\u001b[49m\u001b[43m(\u001b[49m\u001b[38;5;241;43m3600\u001b[39;49m\u001b[43m)\u001b[49m\n",
      "\u001b[0;31mKeyboardInterrupt\u001b[0m: "
     ]
    }
   ],
   "source": [
    "# Schedule the task to run every 2 hours\n",
    "schedule.every(2).hours.do(get_data_and_post)\n",
    "\n",
    "# Run the scheduler\n",
    "while True:\n",
    "    schedule.run_pending()\n",
    "    time.sleep(3600)"
   ]
  },
  {
   "cell_type": "code",
   "execution_count": null,
   "metadata": {},
   "outputs": [],
   "source": []
  }
 ],
 "metadata": {
  "kernelspec": {
   "display_name": "Python 3 (ipykernel)",
   "language": "python",
   "name": "python3"
  },
  "language_info": {
   "codemirror_mode": {
    "name": "ipython",
    "version": 3
   },
   "file_extension": ".py",
   "mimetype": "text/x-python",
   "name": "python",
   "nbconvert_exporter": "python",
   "pygments_lexer": "ipython3",
   "version": "3.8.8"
  }
 },
 "nbformat": 4,
 "nbformat_minor": 4
}
